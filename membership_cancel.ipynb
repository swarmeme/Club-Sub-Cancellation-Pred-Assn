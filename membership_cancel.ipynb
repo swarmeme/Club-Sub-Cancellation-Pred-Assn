{
 "cells": [
  {
   "cell_type": "code",
   "execution_count": null,
   "metadata": {},
   "outputs": [],
   "source": [
    "'''\n",
    "Swarnim Varshneya\n",
    "RA2011026030075\n",
    "'''"
   ]
  },
  {
   "cell_type": "code",
   "execution_count": 1,
   "metadata": {},
   "outputs": [],
   "source": [
    "#importing libraries\n",
    "import pandas as pd\n",
    "import sklearn as sk\n",
    "import matplotlib.pyplot as plt"
   ]
  },
  {
   "cell_type": "code",
   "execution_count": 2,
   "metadata": {},
   "outputs": [],
   "source": [
    "#uploading dataframe\n",
    "member_df = pd.read_csv(\"/Users/swarnim/Desktop/Assignment- Membership woes/Data-Table 1.csv\")"
   ]
  },
  {
   "cell_type": "code",
   "execution_count": 3,
   "metadata": {},
   "outputs": [
    {
     "data": {
      "text/html": [
       "<div>\n",
       "<style scoped>\n",
       "    .dataframe tbody tr th:only-of-type {\n",
       "        vertical-align: middle;\n",
       "    }\n",
       "\n",
       "    .dataframe tbody tr th {\n",
       "        vertical-align: top;\n",
       "    }\n",
       "\n",
       "    .dataframe thead th {\n",
       "        text-align: right;\n",
       "    }\n",
       "</style>\n",
       "<table border=\"1\" class=\"dataframe\">\n",
       "  <thead>\n",
       "    <tr style=\"text-align: right;\">\n",
       "      <th></th>\n",
       "      <th>MEMBERSHIP_NUMBER</th>\n",
       "      <th>MEMBERSHIP_TERM_YEARS</th>\n",
       "      <th>ANNUAL_FEES</th>\n",
       "      <th>MEMBER_MARITAL_STATUS</th>\n",
       "      <th>MEMBER_GENDER</th>\n",
       "      <th>MEMBER_ANNUAL_INCOME</th>\n",
       "      <th>MEMBER_OCCUPATION_CD</th>\n",
       "      <th>MEMBERSHIP_PACKAGE</th>\n",
       "      <th>MEMBER_AGE_AT_ISSUE</th>\n",
       "      <th>ADDITIONAL_MEMBERS</th>\n",
       "      <th>PAYMENT_MODE</th>\n",
       "      <th>AGENT_CODE</th>\n",
       "      <th>MEMBERSHIP_STATUS</th>\n",
       "      <th>START_DATE (YYYYMMDD)</th>\n",
       "      <th>END_DATE  (YYYYMMDD)</th>\n",
       "    </tr>\n",
       "  </thead>\n",
       "  <tbody>\n",
       "    <tr>\n",
       "      <th>0</th>\n",
       "      <td>A00001</td>\n",
       "      <td>29</td>\n",
       "      <td>113125.0</td>\n",
       "      <td>M</td>\n",
       "      <td>M</td>\n",
       "      <td>25200000.0</td>\n",
       "      <td>1.0</td>\n",
       "      <td>TYPE-B</td>\n",
       "      <td>45</td>\n",
       "      <td>2</td>\n",
       "      <td>ANNUAL</td>\n",
       "      <td>477</td>\n",
       "      <td>INFORCE</td>\n",
       "      <td>20060914</td>\n",
       "      <td>NaN</td>\n",
       "    </tr>\n",
       "    <tr>\n",
       "      <th>1</th>\n",
       "      <td>A00002</td>\n",
       "      <td>38</td>\n",
       "      <td>112220.0</td>\n",
       "      <td>M</td>\n",
       "      <td>M</td>\n",
       "      <td>10339200.0</td>\n",
       "      <td>1.0</td>\n",
       "      <td>TYPE-B</td>\n",
       "      <td>36</td>\n",
       "      <td>3</td>\n",
       "      <td>QUARTERLY</td>\n",
       "      <td>255</td>\n",
       "      <td>INFORCE</td>\n",
       "      <td>20061102</td>\n",
       "      <td>NaN</td>\n",
       "    </tr>\n",
       "    <tr>\n",
       "      <th>2</th>\n",
       "      <td>A00003</td>\n",
       "      <td>12</td>\n",
       "      <td>100000.0</td>\n",
       "      <td>M</td>\n",
       "      <td>M</td>\n",
       "      <td>14400000.0</td>\n",
       "      <td>1.0</td>\n",
       "      <td>TYPE-B</td>\n",
       "      <td>42</td>\n",
       "      <td>1</td>\n",
       "      <td>ANNUAL</td>\n",
       "      <td>7866</td>\n",
       "      <td>INFORCE</td>\n",
       "      <td>20070124</td>\n",
       "      <td>NaN</td>\n",
       "    </tr>\n",
       "    <tr>\n",
       "      <th>3</th>\n",
       "      <td>A00004</td>\n",
       "      <td>12</td>\n",
       "      <td>100000.0</td>\n",
       "      <td>M</td>\n",
       "      <td>M</td>\n",
       "      <td>9000000.0</td>\n",
       "      <td>1.0</td>\n",
       "      <td>TYPE-B</td>\n",
       "      <td>39</td>\n",
       "      <td>2</td>\n",
       "      <td>ANNUAL</td>\n",
       "      <td>200533</td>\n",
       "      <td>INFORCE</td>\n",
       "      <td>20070122</td>\n",
       "      <td>NaN</td>\n",
       "    </tr>\n",
       "    <tr>\n",
       "      <th>4</th>\n",
       "      <td>A00005</td>\n",
       "      <td>46</td>\n",
       "      <td>100000.0</td>\n",
       "      <td>M</td>\n",
       "      <td>M</td>\n",
       "      <td>4800000.0</td>\n",
       "      <td>1.0</td>\n",
       "      <td>TYPE-B</td>\n",
       "      <td>27</td>\n",
       "      <td>2</td>\n",
       "      <td>QUARTERLY</td>\n",
       "      <td>6988</td>\n",
       "      <td>INFORCE</td>\n",
       "      <td>20070131</td>\n",
       "      <td>NaN</td>\n",
       "    </tr>\n",
       "  </tbody>\n",
       "</table>\n",
       "</div>"
      ],
      "text/plain": [
       "  MEMBERSHIP_NUMBER  MEMBERSHIP_TERM_YEARS  ANNUAL_FEES MEMBER_MARITAL_STATUS  \\\n",
       "0            A00001                     29     113125.0                     M   \n",
       "1            A00002                     38     112220.0                     M   \n",
       "2            A00003                     12     100000.0                     M   \n",
       "3            A00004                     12     100000.0                     M   \n",
       "4            A00005                     46     100000.0                     M   \n",
       "\n",
       "  MEMBER_GENDER  MEMBER_ANNUAL_INCOME  MEMBER_OCCUPATION_CD  \\\n",
       "0             M            25200000.0                   1.0   \n",
       "1             M            10339200.0                   1.0   \n",
       "2             M            14400000.0                   1.0   \n",
       "3             M             9000000.0                   1.0   \n",
       "4             M             4800000.0                   1.0   \n",
       "\n",
       "  MEMBERSHIP_PACKAGE  MEMBER_AGE_AT_ISSUE  ADDITIONAL_MEMBERS PAYMENT_MODE  \\\n",
       "0             TYPE-B                   45                   2       ANNUAL   \n",
       "1             TYPE-B                   36                   3    QUARTERLY   \n",
       "2             TYPE-B                   42                   1       ANNUAL   \n",
       "3             TYPE-B                   39                   2       ANNUAL   \n",
       "4             TYPE-B                   27                   2    QUARTERLY   \n",
       "\n",
       "  AGENT_CODE MEMBERSHIP_STATUS  START_DATE (YYYYMMDD)  END_DATE  (YYYYMMDD)  \n",
       "0        477           INFORCE               20060914                   NaN  \n",
       "1        255           INFORCE               20061102                   NaN  \n",
       "2       7866           INFORCE               20070124                   NaN  \n",
       "3     200533           INFORCE               20070122                   NaN  \n",
       "4       6988           INFORCE               20070131                   NaN  "
      ]
     },
     "execution_count": 3,
     "metadata": {},
     "output_type": "execute_result"
    }
   ],
   "source": [
    "#viewing data\n",
    "member_df.head()"
   ]
  },
  {
   "cell_type": "code",
   "execution_count": 4,
   "metadata": {},
   "outputs": [
    {
     "name": "stdout",
     "output_type": "stream",
     "text": [
      "<class 'pandas.core.frame.DataFrame'>\n",
      "RangeIndex: 10362 entries, 0 to 10361\n",
      "Data columns (total 15 columns):\n",
      " #   Column                 Non-Null Count  Dtype  \n",
      "---  ------                 --------------  -----  \n",
      " 0   MEMBERSHIP_NUMBER      10362 non-null  object \n",
      " 1   MEMBERSHIP_TERM_YEARS  10362 non-null  int64  \n",
      " 2   ANNUAL_FEES            10362 non-null  float64\n",
      " 3   MEMBER_MARITAL_STATUS  7765 non-null   object \n",
      " 4   MEMBER_GENDER          9751 non-null   object \n",
      " 5   MEMBER_ANNUAL_INCOME   8608 non-null   float64\n",
      " 6   MEMBER_OCCUPATION_CD   10319 non-null  float64\n",
      " 7   MEMBERSHIP_PACKAGE     10362 non-null  object \n",
      " 8   MEMBER_AGE_AT_ISSUE    10362 non-null  int64  \n",
      " 9   ADDITIONAL_MEMBERS     10362 non-null  int64  \n",
      " 10  PAYMENT_MODE           10362 non-null  object \n",
      " 11  AGENT_CODE             10362 non-null  object \n",
      " 12  MEMBERSHIP_STATUS      10362 non-null  object \n",
      " 13  START_DATE (YYYYMMDD)  10362 non-null  int64  \n",
      " 14  END_DATE  (YYYYMMDD)   3143 non-null   float64\n",
      "dtypes: float64(4), int64(4), object(7)\n",
      "memory usage: 1.2+ MB\n"
     ]
    }
   ],
   "source": [
    "#getting basic information of the data\n",
    "member_df.info()"
   ]
  },
  {
   "cell_type": "code",
   "execution_count": 5,
   "metadata": {},
   "outputs": [
    {
     "data": {
      "text/plain": [
       "MEMBERSHIP_NUMBER           0\n",
       "MEMBERSHIP_TERM_YEARS       0\n",
       "ANNUAL_FEES                 0\n",
       "MEMBER_MARITAL_STATUS    2597\n",
       "MEMBER_GENDER             611\n",
       "MEMBER_ANNUAL_INCOME     1754\n",
       "MEMBER_OCCUPATION_CD       43\n",
       "MEMBERSHIP_PACKAGE          0\n",
       "MEMBER_AGE_AT_ISSUE         0\n",
       "ADDITIONAL_MEMBERS          0\n",
       "PAYMENT_MODE                0\n",
       "AGENT_CODE                  0\n",
       "MEMBERSHIP_STATUS           0\n",
       "START_DATE (YYYYMMDD)       0\n",
       "END_DATE  (YYYYMMDD)     7219\n",
       "dtype: int64"
      ]
     },
     "execution_count": 5,
     "metadata": {},
     "output_type": "execute_result"
    }
   ],
   "source": [
    "#checking null values\n",
    "member_df.isnull().sum()"
   ]
  },
  {
   "cell_type": "code",
   "execution_count": 6,
   "metadata": {},
   "outputs": [],
   "source": [
    "#data pre-processing starts\n",
    "columns_to_exclude = ['END_DATE  (YYYYMMDD)']"
   ]
  },
  {
   "cell_type": "code",
   "execution_count": 7,
   "metadata": {},
   "outputs": [],
   "source": [
    "#removing null values\n",
    "member_df_clean = member_df.dropna(subset=[col for col in member_df.columns if col not in columns_to_exclude])"
   ]
  },
  {
   "cell_type": "code",
   "execution_count": 8,
   "metadata": {},
   "outputs": [
    {
     "data": {
      "text/plain": [
       "(7275, 15)"
      ]
     },
     "execution_count": 8,
     "metadata": {},
     "output_type": "execute_result"
    }
   ],
   "source": [
    "#seeing shape of the data\n",
    "member_df_clean.shape"
   ]
  },
  {
   "cell_type": "code",
   "execution_count": 9,
   "metadata": {},
   "outputs": [],
   "source": [
    "#removing this as majorly the singles will not have additional members\n",
    "member_df_clean = member_df_clean.drop(['ADDITIONAL_MEMBERS'], axis=1)"
   ]
  },
  {
   "cell_type": "code",
   "execution_count": 10,
   "metadata": {},
   "outputs": [
    {
     "data": {
      "text/html": [
       "<div>\n",
       "<style scoped>\n",
       "    .dataframe tbody tr th:only-of-type {\n",
       "        vertical-align: middle;\n",
       "    }\n",
       "\n",
       "    .dataframe tbody tr th {\n",
       "        vertical-align: top;\n",
       "    }\n",
       "\n",
       "    .dataframe thead th {\n",
       "        text-align: right;\n",
       "    }\n",
       "</style>\n",
       "<table border=\"1\" class=\"dataframe\">\n",
       "  <thead>\n",
       "    <tr style=\"text-align: right;\">\n",
       "      <th></th>\n",
       "      <th>MEMBERSHIP_NUMBER</th>\n",
       "      <th>MEMBERSHIP_TERM_YEARS</th>\n",
       "      <th>ANNUAL_FEES</th>\n",
       "      <th>MEMBER_MARITAL_STATUS</th>\n",
       "      <th>MEMBER_GENDER</th>\n",
       "      <th>MEMBER_ANNUAL_INCOME</th>\n",
       "      <th>MEMBER_OCCUPATION_CD</th>\n",
       "      <th>MEMBERSHIP_PACKAGE</th>\n",
       "      <th>MEMBER_AGE_AT_ISSUE</th>\n",
       "      <th>PAYMENT_MODE</th>\n",
       "      <th>AGENT_CODE</th>\n",
       "      <th>MEMBERSHIP_STATUS</th>\n",
       "      <th>START_DATE (YYYYMMDD)</th>\n",
       "      <th>END_DATE  (YYYYMMDD)</th>\n",
       "    </tr>\n",
       "  </thead>\n",
       "  <tbody>\n",
       "    <tr>\n",
       "      <th>0</th>\n",
       "      <td>A00001</td>\n",
       "      <td>29</td>\n",
       "      <td>113125.00</td>\n",
       "      <td>M</td>\n",
       "      <td>M</td>\n",
       "      <td>25200000.0</td>\n",
       "      <td>1.0</td>\n",
       "      <td>TYPE-B</td>\n",
       "      <td>45</td>\n",
       "      <td>ANNUAL</td>\n",
       "      <td>477</td>\n",
       "      <td>INFORCE</td>\n",
       "      <td>20060914</td>\n",
       "      <td>NaN</td>\n",
       "    </tr>\n",
       "    <tr>\n",
       "      <th>1</th>\n",
       "      <td>A00002</td>\n",
       "      <td>38</td>\n",
       "      <td>112220.00</td>\n",
       "      <td>M</td>\n",
       "      <td>M</td>\n",
       "      <td>10339200.0</td>\n",
       "      <td>1.0</td>\n",
       "      <td>TYPE-B</td>\n",
       "      <td>36</td>\n",
       "      <td>QUARTERLY</td>\n",
       "      <td>255</td>\n",
       "      <td>INFORCE</td>\n",
       "      <td>20061102</td>\n",
       "      <td>NaN</td>\n",
       "    </tr>\n",
       "    <tr>\n",
       "      <th>2</th>\n",
       "      <td>A00003</td>\n",
       "      <td>12</td>\n",
       "      <td>100000.00</td>\n",
       "      <td>M</td>\n",
       "      <td>M</td>\n",
       "      <td>14400000.0</td>\n",
       "      <td>1.0</td>\n",
       "      <td>TYPE-B</td>\n",
       "      <td>42</td>\n",
       "      <td>ANNUAL</td>\n",
       "      <td>7866</td>\n",
       "      <td>INFORCE</td>\n",
       "      <td>20070124</td>\n",
       "      <td>NaN</td>\n",
       "    </tr>\n",
       "    <tr>\n",
       "      <th>3</th>\n",
       "      <td>A00004</td>\n",
       "      <td>12</td>\n",
       "      <td>100000.00</td>\n",
       "      <td>M</td>\n",
       "      <td>M</td>\n",
       "      <td>9000000.0</td>\n",
       "      <td>1.0</td>\n",
       "      <td>TYPE-B</td>\n",
       "      <td>39</td>\n",
       "      <td>ANNUAL</td>\n",
       "      <td>200533</td>\n",
       "      <td>INFORCE</td>\n",
       "      <td>20070122</td>\n",
       "      <td>NaN</td>\n",
       "    </tr>\n",
       "    <tr>\n",
       "      <th>4</th>\n",
       "      <td>A00005</td>\n",
       "      <td>46</td>\n",
       "      <td>100000.00</td>\n",
       "      <td>M</td>\n",
       "      <td>M</td>\n",
       "      <td>4800000.0</td>\n",
       "      <td>1.0</td>\n",
       "      <td>TYPE-B</td>\n",
       "      <td>27</td>\n",
       "      <td>QUARTERLY</td>\n",
       "      <td>6988</td>\n",
       "      <td>INFORCE</td>\n",
       "      <td>20070131</td>\n",
       "      <td>NaN</td>\n",
       "    </tr>\n",
       "    <tr>\n",
       "      <th>...</th>\n",
       "      <td>...</td>\n",
       "      <td>...</td>\n",
       "      <td>...</td>\n",
       "      <td>...</td>\n",
       "      <td>...</td>\n",
       "      <td>...</td>\n",
       "      <td>...</td>\n",
       "      <td>...</td>\n",
       "      <td>...</td>\n",
       "      <td>...</td>\n",
       "      <td>...</td>\n",
       "      <td>...</td>\n",
       "      <td>...</td>\n",
       "      <td>...</td>\n",
       "    </tr>\n",
       "    <tr>\n",
       "      <th>10352</th>\n",
       "      <td>A10357</td>\n",
       "      <td>32</td>\n",
       "      <td>297270.24</td>\n",
       "      <td>M</td>\n",
       "      <td>M</td>\n",
       "      <td>999996.0</td>\n",
       "      <td>1.0</td>\n",
       "      <td>TYPE-A</td>\n",
       "      <td>38</td>\n",
       "      <td>MONTHLY</td>\n",
       "      <td>1079488</td>\n",
       "      <td>INFORCE</td>\n",
       "      <td>20131129</td>\n",
       "      <td>NaN</td>\n",
       "    </tr>\n",
       "    <tr>\n",
       "      <th>10353</th>\n",
       "      <td>A10358</td>\n",
       "      <td>19</td>\n",
       "      <td>123706.92</td>\n",
       "      <td>S</td>\n",
       "      <td>F</td>\n",
       "      <td>1800000.0</td>\n",
       "      <td>1.0</td>\n",
       "      <td>TYPE-A</td>\n",
       "      <td>29</td>\n",
       "      <td>MONTHLY</td>\n",
       "      <td>20300</td>\n",
       "      <td>INFORCE</td>\n",
       "      <td>20131129</td>\n",
       "      <td>NaN</td>\n",
       "    </tr>\n",
       "    <tr>\n",
       "      <th>10354</th>\n",
       "      <td>A10359</td>\n",
       "      <td>17</td>\n",
       "      <td>141011.64</td>\n",
       "      <td>M</td>\n",
       "      <td>M</td>\n",
       "      <td>799992.0</td>\n",
       "      <td>2.0</td>\n",
       "      <td>TYPE-A</td>\n",
       "      <td>61</td>\n",
       "      <td>MONTHLY</td>\n",
       "      <td>343455</td>\n",
       "      <td>INFORCE</td>\n",
       "      <td>20131129</td>\n",
       "      <td>NaN</td>\n",
       "    </tr>\n",
       "    <tr>\n",
       "      <th>10356</th>\n",
       "      <td>A10361</td>\n",
       "      <td>17</td>\n",
       "      <td>113316.53</td>\n",
       "      <td>M</td>\n",
       "      <td>M</td>\n",
       "      <td>399996.0</td>\n",
       "      <td>1.0</td>\n",
       "      <td>TYPE-A</td>\n",
       "      <td>42</td>\n",
       "      <td>ANNUAL</td>\n",
       "      <td>348099</td>\n",
       "      <td>INFORCE</td>\n",
       "      <td>20131129</td>\n",
       "      <td>NaN</td>\n",
       "    </tr>\n",
       "    <tr>\n",
       "      <th>10361</th>\n",
       "      <td>A10366</td>\n",
       "      <td>17</td>\n",
       "      <td>100000.36</td>\n",
       "      <td>W</td>\n",
       "      <td>F</td>\n",
       "      <td>300000.0</td>\n",
       "      <td>1.0</td>\n",
       "      <td>TYPE-A</td>\n",
       "      <td>56</td>\n",
       "      <td>SEMI-ANNUAL</td>\n",
       "      <td>347999</td>\n",
       "      <td>INFORCE</td>\n",
       "      <td>20131129</td>\n",
       "      <td>NaN</td>\n",
       "    </tr>\n",
       "  </tbody>\n",
       "</table>\n",
       "<p>7275 rows × 14 columns</p>\n",
       "</div>"
      ],
      "text/plain": [
       "      MEMBERSHIP_NUMBER  MEMBERSHIP_TERM_YEARS  ANNUAL_FEES  \\\n",
       "0                A00001                     29    113125.00   \n",
       "1                A00002                     38    112220.00   \n",
       "2                A00003                     12    100000.00   \n",
       "3                A00004                     12    100000.00   \n",
       "4                A00005                     46    100000.00   \n",
       "...                 ...                    ...          ...   \n",
       "10352            A10357                     32    297270.24   \n",
       "10353            A10358                     19    123706.92   \n",
       "10354            A10359                     17    141011.64   \n",
       "10356            A10361                     17    113316.53   \n",
       "10361            A10366                     17    100000.36   \n",
       "\n",
       "      MEMBER_MARITAL_STATUS MEMBER_GENDER  MEMBER_ANNUAL_INCOME  \\\n",
       "0                         M             M            25200000.0   \n",
       "1                         M             M            10339200.0   \n",
       "2                         M             M            14400000.0   \n",
       "3                         M             M             9000000.0   \n",
       "4                         M             M             4800000.0   \n",
       "...                     ...           ...                   ...   \n",
       "10352                     M             M              999996.0   \n",
       "10353                     S             F             1800000.0   \n",
       "10354                     M             M              799992.0   \n",
       "10356                     M             M              399996.0   \n",
       "10361                     W             F              300000.0   \n",
       "\n",
       "       MEMBER_OCCUPATION_CD MEMBERSHIP_PACKAGE  MEMBER_AGE_AT_ISSUE  \\\n",
       "0                       1.0             TYPE-B                   45   \n",
       "1                       1.0             TYPE-B                   36   \n",
       "2                       1.0             TYPE-B                   42   \n",
       "3                       1.0             TYPE-B                   39   \n",
       "4                       1.0             TYPE-B                   27   \n",
       "...                     ...                ...                  ...   \n",
       "10352                   1.0             TYPE-A                   38   \n",
       "10353                   1.0             TYPE-A                   29   \n",
       "10354                   2.0             TYPE-A                   61   \n",
       "10356                   1.0             TYPE-A                   42   \n",
       "10361                   1.0             TYPE-A                   56   \n",
       "\n",
       "      PAYMENT_MODE AGENT_CODE MEMBERSHIP_STATUS  START_DATE (YYYYMMDD)  \\\n",
       "0           ANNUAL        477           INFORCE               20060914   \n",
       "1        QUARTERLY        255           INFORCE               20061102   \n",
       "2           ANNUAL       7866           INFORCE               20070124   \n",
       "3           ANNUAL     200533           INFORCE               20070122   \n",
       "4        QUARTERLY       6988           INFORCE               20070131   \n",
       "...            ...        ...               ...                    ...   \n",
       "10352      MONTHLY    1079488           INFORCE               20131129   \n",
       "10353      MONTHLY      20300           INFORCE               20131129   \n",
       "10354      MONTHLY     343455           INFORCE               20131129   \n",
       "10356       ANNUAL     348099           INFORCE               20131129   \n",
       "10361  SEMI-ANNUAL     347999           INFORCE               20131129   \n",
       "\n",
       "       END_DATE  (YYYYMMDD)  \n",
       "0                       NaN  \n",
       "1                       NaN  \n",
       "2                       NaN  \n",
       "3                       NaN  \n",
       "4                       NaN  \n",
       "...                     ...  \n",
       "10352                   NaN  \n",
       "10353                   NaN  \n",
       "10354                   NaN  \n",
       "10356                   NaN  \n",
       "10361                   NaN  \n",
       "\n",
       "[7275 rows x 14 columns]"
      ]
     },
     "execution_count": 10,
     "metadata": {},
     "output_type": "execute_result"
    }
   ],
   "source": [
    "\n",
    "member_df_clean"
   ]
  },
  {
   "cell_type": "code",
   "execution_count": 9,
   "metadata": {},
   "outputs": [],
   "source": [
    "#this will not really impact the data\n",
    "member_df_clean = member_df_clean.drop(['MEMBER_OCCUPATION_CD'], axis=1)\n"
   ]
  },
  {
   "cell_type": "code",
   "execution_count": 10,
   "metadata": {},
   "outputs": [
    {
     "data": {
      "text/html": [
       "<div>\n",
       "<style scoped>\n",
       "    .dataframe tbody tr th:only-of-type {\n",
       "        vertical-align: middle;\n",
       "    }\n",
       "\n",
       "    .dataframe tbody tr th {\n",
       "        vertical-align: top;\n",
       "    }\n",
       "\n",
       "    .dataframe thead th {\n",
       "        text-align: right;\n",
       "    }\n",
       "</style>\n",
       "<table border=\"1\" class=\"dataframe\">\n",
       "  <thead>\n",
       "    <tr style=\"text-align: right;\">\n",
       "      <th></th>\n",
       "      <th>MEMBERSHIP_NUMBER</th>\n",
       "      <th>MEMBERSHIP_TERM_YEARS</th>\n",
       "      <th>ANNUAL_FEES</th>\n",
       "      <th>MEMBER_MARITAL_STATUS</th>\n",
       "      <th>MEMBER_GENDER</th>\n",
       "      <th>MEMBER_ANNUAL_INCOME</th>\n",
       "      <th>MEMBERSHIP_PACKAGE</th>\n",
       "      <th>MEMBER_AGE_AT_ISSUE</th>\n",
       "      <th>ADDITIONAL_MEMBERS</th>\n",
       "      <th>PAYMENT_MODE</th>\n",
       "      <th>AGENT_CODE</th>\n",
       "      <th>MEMBERSHIP_STATUS</th>\n",
       "      <th>START_DATE (YYYYMMDD)</th>\n",
       "      <th>END_DATE  (YYYYMMDD)</th>\n",
       "    </tr>\n",
       "  </thead>\n",
       "  <tbody>\n",
       "    <tr>\n",
       "      <th>0</th>\n",
       "      <td>A00001</td>\n",
       "      <td>29</td>\n",
       "      <td>113125.0</td>\n",
       "      <td>M</td>\n",
       "      <td>M</td>\n",
       "      <td>25200000.0</td>\n",
       "      <td>TYPE-B</td>\n",
       "      <td>45</td>\n",
       "      <td>2</td>\n",
       "      <td>ANNUAL</td>\n",
       "      <td>477</td>\n",
       "      <td>INFORCE</td>\n",
       "      <td>20060914</td>\n",
       "      <td>NaN</td>\n",
       "    </tr>\n",
       "    <tr>\n",
       "      <th>1</th>\n",
       "      <td>A00002</td>\n",
       "      <td>38</td>\n",
       "      <td>112220.0</td>\n",
       "      <td>M</td>\n",
       "      <td>M</td>\n",
       "      <td>10339200.0</td>\n",
       "      <td>TYPE-B</td>\n",
       "      <td>36</td>\n",
       "      <td>3</td>\n",
       "      <td>QUARTERLY</td>\n",
       "      <td>255</td>\n",
       "      <td>INFORCE</td>\n",
       "      <td>20061102</td>\n",
       "      <td>NaN</td>\n",
       "    </tr>\n",
       "    <tr>\n",
       "      <th>2</th>\n",
       "      <td>A00003</td>\n",
       "      <td>12</td>\n",
       "      <td>100000.0</td>\n",
       "      <td>M</td>\n",
       "      <td>M</td>\n",
       "      <td>14400000.0</td>\n",
       "      <td>TYPE-B</td>\n",
       "      <td>42</td>\n",
       "      <td>1</td>\n",
       "      <td>ANNUAL</td>\n",
       "      <td>7866</td>\n",
       "      <td>INFORCE</td>\n",
       "      <td>20070124</td>\n",
       "      <td>NaN</td>\n",
       "    </tr>\n",
       "    <tr>\n",
       "      <th>3</th>\n",
       "      <td>A00004</td>\n",
       "      <td>12</td>\n",
       "      <td>100000.0</td>\n",
       "      <td>M</td>\n",
       "      <td>M</td>\n",
       "      <td>9000000.0</td>\n",
       "      <td>TYPE-B</td>\n",
       "      <td>39</td>\n",
       "      <td>2</td>\n",
       "      <td>ANNUAL</td>\n",
       "      <td>200533</td>\n",
       "      <td>INFORCE</td>\n",
       "      <td>20070122</td>\n",
       "      <td>NaN</td>\n",
       "    </tr>\n",
       "    <tr>\n",
       "      <th>4</th>\n",
       "      <td>A00005</td>\n",
       "      <td>46</td>\n",
       "      <td>100000.0</td>\n",
       "      <td>M</td>\n",
       "      <td>M</td>\n",
       "      <td>4800000.0</td>\n",
       "      <td>TYPE-B</td>\n",
       "      <td>27</td>\n",
       "      <td>2</td>\n",
       "      <td>QUARTERLY</td>\n",
       "      <td>6988</td>\n",
       "      <td>INFORCE</td>\n",
       "      <td>20070131</td>\n",
       "      <td>NaN</td>\n",
       "    </tr>\n",
       "  </tbody>\n",
       "</table>\n",
       "</div>"
      ],
      "text/plain": [
       "  MEMBERSHIP_NUMBER  MEMBERSHIP_TERM_YEARS  ANNUAL_FEES MEMBER_MARITAL_STATUS  \\\n",
       "0            A00001                     29     113125.0                     M   \n",
       "1            A00002                     38     112220.0                     M   \n",
       "2            A00003                     12     100000.0                     M   \n",
       "3            A00004                     12     100000.0                     M   \n",
       "4            A00005                     46     100000.0                     M   \n",
       "\n",
       "  MEMBER_GENDER  MEMBER_ANNUAL_INCOME MEMBERSHIP_PACKAGE  MEMBER_AGE_AT_ISSUE  \\\n",
       "0             M            25200000.0             TYPE-B                   45   \n",
       "1             M            10339200.0             TYPE-B                   36   \n",
       "2             M            14400000.0             TYPE-B                   42   \n",
       "3             M             9000000.0             TYPE-B                   39   \n",
       "4             M             4800000.0             TYPE-B                   27   \n",
       "\n",
       "   ADDITIONAL_MEMBERS PAYMENT_MODE AGENT_CODE MEMBERSHIP_STATUS  \\\n",
       "0                   2       ANNUAL        477           INFORCE   \n",
       "1                   3    QUARTERLY        255           INFORCE   \n",
       "2                   1       ANNUAL       7866           INFORCE   \n",
       "3                   2       ANNUAL     200533           INFORCE   \n",
       "4                   2    QUARTERLY       6988           INFORCE   \n",
       "\n",
       "   START_DATE (YYYYMMDD)  END_DATE  (YYYYMMDD)  \n",
       "0               20060914                   NaN  \n",
       "1               20061102                   NaN  \n",
       "2               20070124                   NaN  \n",
       "3               20070122                   NaN  \n",
       "4               20070131                   NaN  "
      ]
     },
     "execution_count": 10,
     "metadata": {},
     "output_type": "execute_result"
    }
   ],
   "source": [
    "member_df_clean.head()"
   ]
  },
  {
   "cell_type": "code",
   "execution_count": 11,
   "metadata": {},
   "outputs": [],
   "source": [
    "#this is a very scattered data which will need alot of preprocessing and we have enough other features we can work with\n",
    "member_df_clean = member_df_clean.drop(['AGENT_CODE'], axis=1)"
   ]
  },
  {
   "cell_type": "code",
   "execution_count": 12,
   "metadata": {},
   "outputs": [],
   "source": [
    "#calculating average income\n",
    "avg_income = member_df_clean['MEMBER_ANNUAL_INCOME'].mean()"
   ]
  },
  {
   "cell_type": "code",
   "execution_count": 13,
   "metadata": {},
   "outputs": [
    {
     "data": {
      "text/plain": [
       "1114710.6474226804"
      ]
     },
     "execution_count": 13,
     "metadata": {},
     "output_type": "execute_result"
    }
   ],
   "source": [
    "avg_income"
   ]
  },
  {
   "cell_type": "code",
   "execution_count": 14,
   "metadata": {},
   "outputs": [],
   "source": [
    "#counting number of members by marital status\n",
    "marital_status_counts = member_df_clean['MEMBER_MARITAL_STATUS'].value_counts()"
   ]
  },
  {
   "cell_type": "code",
   "execution_count": 15,
   "metadata": {},
   "outputs": [
    {
     "data": {
      "text/plain": [
       "MEMBER_MARITAL_STATUS\n",
       "M    5996\n",
       "S    1117\n",
       "W     117\n",
       "D      45\n",
       "Name: count, dtype: int64"
      ]
     },
     "execution_count": 15,
     "metadata": {},
     "output_type": "execute_result"
    }
   ],
   "source": [
    "marital_status_counts"
   ]
  },
  {
   "cell_type": "code",
   "execution_count": 16,
   "metadata": {},
   "outputs": [],
   "source": [
    "#importing for graphs\n",
    "import seaborn as sns"
   ]
  },
  {
   "cell_type": "code",
   "execution_count": 17,
   "metadata": {},
   "outputs": [
    {
     "data": {
      "image/png": "[encoded data removed]",
      "text/plain": [
       "<Figure size 1000x800 with 1 Axes>"
      ]
     },
     "metadata": {},
     "output_type": "display_data"
    }
   ],
   "source": [
    "#plotting graph for marital status and cancellation\n",
    "sns.set(style=\"whitegrid\")\n",
    "plt.figure(figsize=(10, 8))\n",
    "cancelled_df = member_df_clean[member_df_clean['MEMBERSHIP_STATUS'] == 'CANCELLED']\n",
    "sns.countplot(x='MEMBER_MARITAL_STATUS', data=cancelled_df, order=['M', 'S', 'W', 'D'], palette='viridis')\n",
    "plt.title('Cancellation Status by Marital Status')\n",
    "plt.xlabel('Marital Status')\n",
    "plt.ylabel('Count')\n",
    "plt.show()"
   ]
  },
  {
   "cell_type": "code",
   "execution_count": 18,
   "metadata": {},
   "outputs": [],
   "source": [
    "#extracting cancelled and inforce\n",
    "cancelled_df = member_df_clean[member_df_clean['MEMBERSHIP_STATUS'] == 'CANCELLED']\n",
    "in_force_df = member_df_clean[member_df_clean['MEMBERSHIP_STATUS'] == 'INFORCE']"
   ]
  },
  {
   "cell_type": "code",
   "execution_count": 19,
   "metadata": {},
   "outputs": [],
   "source": [
    "#averaging income on cancelled and inforce\n",
    "avg_income_cancelled = cancelled_df['MEMBER_ANNUAL_INCOME'].mean()\n",
    "avg_income_in_force = in_force_df['MEMBER_ANNUAL_INCOME'].mean()\n"
   ]
  },
  {
   "cell_type": "code",
   "execution_count": 20,
   "metadata": {},
   "outputs": [
    {
     "data": {
      "image/png": "[encoded data removed]",
      "text/plain": [
       "<Figure size 640x480 with 1 Axes>"
      ]
     },
     "metadata": {},
     "output_type": "display_data"
    }
   ],
   "source": [
    "#plotting graph for income for cancelled and inforce\n",
    "sns.barplot(x=['Cancelled', 'In-Force'], y=[avg_income_cancelled, avg_income_in_force], palette='pastel')\n",
    "plt.title('Average Annual Income for Cancelled and In-Force Memberships')\n",
    "plt.xlabel('Membership Status')\n",
    "plt.ylabel('Average Annual Income')\n",
    "plt.show()"
   ]
  },
  {
   "cell_type": "code",
   "execution_count": 21,
   "metadata": {},
   "outputs": [
    {
     "data": {
      "image/png": "[encoded data removed]",
      "text/plain": [
       "<Figure size 1200x800 with 1 Axes>"
      ]
     },
     "metadata": {},
     "output_type": "display_data"
    }
   ],
   "source": [
    "#plotting graph for payment mode and membership status\n",
    "sns.set(style=\"whitegrid\")\n",
    "plt.figure(figsize=(12, 8))\n",
    "sns.countplot(x='PAYMENT_MODE', hue='MEMBERSHIP_STATUS', data=member_df_clean, palette='cubehelix')\n",
    "plt.title('Grouped Bar Plot: Payment Mode vs Membership Status')\n",
    "plt.xlabel('Payment Mode')\n",
    "plt.ylabel('Count')\n",
    "plt.show()"
   ]
  },
  {
   "cell_type": "code",
   "execution_count": 22,
   "metadata": {},
   "outputs": [
    {
     "data": {
      "image/png": "[encoded data removed]",
      "text/plain": [
       "<Figure size 1200x800 with 1 Axes>"
      ]
     },
     "metadata": {},
     "output_type": "display_data"
    }
   ],
   "source": [
    "#plotting graph for member age at issue and membership status\n",
    "sns.set(style=\"whitegrid\")\n",
    "plt.figure(figsize=(12, 8))\n",
    "sns.boxplot(x='MEMBERSHIP_STATUS', y='MEMBER_AGE_AT_ISSUE', data=member_df_clean, palette='viridis')\n",
    "plt.title('Box Plot: Member Age at Issue vs Membership Status')\n",
    "plt.xlabel('Membership Status')\n",
    "plt.ylabel('Member Age at Issue')\n",
    "plt.show()"
   ]
  },
  {
   "cell_type": "code",
   "execution_count": 23,
   "metadata": {},
   "outputs": [],
   "source": [
    "#taking ratio of income to fee to make income an useful attribute\n",
    "member_df_clean['Income_to_Fee_Ratio'] = member_df_clean['MEMBER_ANNUAL_INCOME'] / member_df_clean['ANNUAL_FEES']"
   ]
  },
  {
   "cell_type": "code",
   "execution_count": 24,
   "metadata": {},
   "outputs": [
    {
     "data": {
      "text/plain": [
       "0        222.762431\n",
       "1         92.133310\n",
       "2        144.000000\n",
       "3         90.000000\n",
       "4         48.000000\n",
       "            ...    \n",
       "10352      3.363929\n",
       "10353     14.550520\n",
       "10354      5.673234\n",
       "10356      3.529900\n",
       "10361      2.999989\n",
       "Name: Income_to_Fee_Ratio, Length: 7275, dtype: float64"
      ]
     },
     "execution_count": 24,
     "metadata": {},
     "output_type": "execute_result"
    }
   ],
   "source": [
    "member_df_clean['Income_to_Fee_Ratio']"
   ]
  },
  {
   "cell_type": "code",
   "execution_count": 25,
   "metadata": {},
   "outputs": [
    {
     "data": {
      "image/png": "[encoded data removed]",
      "text/plain": [
       "<Figure size 1200x800 with 1 Axes>"
      ]
     },
     "metadata": {},
     "output_type": "display_data"
    }
   ],
   "source": [
    "#plotting graph for income to fee ratio and membership status\n",
    "sns.set(style=\"whitegrid\")\n",
    "plt.figure(figsize=(12, 8))\n",
    "sns.barplot(x='MEMBERSHIP_STATUS', y='Income_to_Fee_Ratio', data=member_df_clean, palette='Set2')\n",
    "plt.title('Income to Fee Ratio vs Membership Status')\n",
    "plt.xlabel('Membership Status')\n",
    "plt.ylabel('Income to Fee Ratio')\n",
    "plt.show()"
   ]
  },
  {
   "cell_type": "code",
   "execution_count": 26,
   "metadata": {},
   "outputs": [],
   "source": [
    "#checking for other features\n",
    "avg_term_years = member_df_clean.groupby('MEMBERSHIP_STATUS')['MEMBERSHIP_TERM_YEARS'].mean().reset_index()\n"
   ]
  },
  {
   "cell_type": "code",
   "execution_count": 27,
   "metadata": {},
   "outputs": [
    {
     "data": {
      "text/html": [
       "<div>\n",
       "<style scoped>\n",
       "    .dataframe tbody tr th:only-of-type {\n",
       "        vertical-align: middle;\n",
       "    }\n",
       "\n",
       "    .dataframe tbody tr th {\n",
       "        vertical-align: top;\n",
       "    }\n",
       "\n",
       "    .dataframe thead th {\n",
       "        text-align: right;\n",
       "    }\n",
       "</style>\n",
       "<table border=\"1\" class=\"dataframe\">\n",
       "  <thead>\n",
       "    <tr style=\"text-align: right;\">\n",
       "      <th></th>\n",
       "      <th>MEMBERSHIP_STATUS</th>\n",
       "      <th>MEMBERSHIP_TERM_YEARS</th>\n",
       "    </tr>\n",
       "  </thead>\n",
       "  <tbody>\n",
       "    <tr>\n",
       "      <th>0</th>\n",
       "      <td>CANCELLED</td>\n",
       "      <td>25.361848</td>\n",
       "    </tr>\n",
       "    <tr>\n",
       "      <th>1</th>\n",
       "      <td>INFORCE</td>\n",
       "      <td>25.748228</td>\n",
       "    </tr>\n",
       "  </tbody>\n",
       "</table>\n",
       "</div>"
      ],
      "text/plain": [
       "  MEMBERSHIP_STATUS  MEMBERSHIP_TERM_YEARS\n",
       "0         CANCELLED              25.361848\n",
       "1           INFORCE              25.748228"
      ]
     },
     "execution_count": 27,
     "metadata": {},
     "output_type": "execute_result"
    }
   ],
   "source": [
    "avg_term_years"
   ]
  },
  {
   "cell_type": "code",
   "execution_count": 28,
   "metadata": {},
   "outputs": [
    {
     "data": {
      "text/html": [
       "<div>\n",
       "<style scoped>\n",
       "    .dataframe tbody tr th:only-of-type {\n",
       "        vertical-align: middle;\n",
       "    }\n",
       "\n",
       "    .dataframe tbody tr th {\n",
       "        vertical-align: top;\n",
       "    }\n",
       "\n",
       "    .dataframe thead th {\n",
       "        text-align: right;\n",
       "    }\n",
       "</style>\n",
       "<table border=\"1\" class=\"dataframe\">\n",
       "  <thead>\n",
       "    <tr style=\"text-align: right;\">\n",
       "      <th></th>\n",
       "      <th>MEMBERSHIP_NUMBER</th>\n",
       "      <th>MEMBERSHIP_TERM_YEARS</th>\n",
       "      <th>ANNUAL_FEES</th>\n",
       "      <th>MEMBER_MARITAL_STATUS</th>\n",
       "      <th>MEMBER_GENDER</th>\n",
       "      <th>MEMBER_ANNUAL_INCOME</th>\n",
       "      <th>MEMBERSHIP_PACKAGE</th>\n",
       "      <th>MEMBER_AGE_AT_ISSUE</th>\n",
       "      <th>ADDITIONAL_MEMBERS</th>\n",
       "      <th>PAYMENT_MODE</th>\n",
       "      <th>MEMBERSHIP_STATUS</th>\n",
       "      <th>START_DATE (YYYYMMDD)</th>\n",
       "      <th>END_DATE  (YYYYMMDD)</th>\n",
       "      <th>Income_to_Fee_Ratio</th>\n",
       "    </tr>\n",
       "  </thead>\n",
       "  <tbody>\n",
       "    <tr>\n",
       "      <th>0</th>\n",
       "      <td>A00001</td>\n",
       "      <td>29</td>\n",
       "      <td>113125.00</td>\n",
       "      <td>M</td>\n",
       "      <td>M</td>\n",
       "      <td>25200000.0</td>\n",
       "      <td>TYPE-B</td>\n",
       "      <td>45</td>\n",
       "      <td>2</td>\n",
       "      <td>ANNUAL</td>\n",
       "      <td>INFORCE</td>\n",
       "      <td>20060914</td>\n",
       "      <td>NaN</td>\n",
       "      <td>222.762431</td>\n",
       "    </tr>\n",
       "    <tr>\n",
       "      <th>1</th>\n",
       "      <td>A00002</td>\n",
       "      <td>38</td>\n",
       "      <td>112220.00</td>\n",
       "      <td>M</td>\n",
       "      <td>M</td>\n",
       "      <td>10339200.0</td>\n",
       "      <td>TYPE-B</td>\n",
       "      <td>36</td>\n",
       "      <td>3</td>\n",
       "      <td>QUARTERLY</td>\n",
       "      <td>INFORCE</td>\n",
       "      <td>20061102</td>\n",
       "      <td>NaN</td>\n",
       "      <td>92.133310</td>\n",
       "    </tr>\n",
       "    <tr>\n",
       "      <th>2</th>\n",
       "      <td>A00003</td>\n",
       "      <td>12</td>\n",
       "      <td>100000.00</td>\n",
       "      <td>M</td>\n",
       "      <td>M</td>\n",
       "      <td>14400000.0</td>\n",
       "      <td>TYPE-B</td>\n",
       "      <td>42</td>\n",
       "      <td>1</td>\n",
       "      <td>ANNUAL</td>\n",
       "      <td>INFORCE</td>\n",
       "      <td>20070124</td>\n",
       "      <td>NaN</td>\n",
       "      <td>144.000000</td>\n",
       "    </tr>\n",
       "    <tr>\n",
       "      <th>3</th>\n",
       "      <td>A00004</td>\n",
       "      <td>12</td>\n",
       "      <td>100000.00</td>\n",
       "      <td>M</td>\n",
       "      <td>M</td>\n",
       "      <td>9000000.0</td>\n",
       "      <td>TYPE-B</td>\n",
       "      <td>39</td>\n",
       "      <td>2</td>\n",
       "      <td>ANNUAL</td>\n",
       "      <td>INFORCE</td>\n",
       "      <td>20070122</td>\n",
       "      <td>NaN</td>\n",
       "      <td>90.000000</td>\n",
       "    </tr>\n",
       "    <tr>\n",
       "      <th>4</th>\n",
       "      <td>A00005</td>\n",
       "      <td>46</td>\n",
       "      <td>100000.00</td>\n",
       "      <td>M</td>\n",
       "      <td>M</td>\n",
       "      <td>4800000.0</td>\n",
       "      <td>TYPE-B</td>\n",
       "      <td>27</td>\n",
       "      <td>2</td>\n",
       "      <td>QUARTERLY</td>\n",
       "      <td>INFORCE</td>\n",
       "      <td>20070131</td>\n",
       "      <td>NaN</td>\n",
       "      <td>48.000000</td>\n",
       "    </tr>\n",
       "    <tr>\n",
       "      <th>...</th>\n",
       "      <td>...</td>\n",
       "      <td>...</td>\n",
       "      <td>...</td>\n",
       "      <td>...</td>\n",
       "      <td>...</td>\n",
       "      <td>...</td>\n",
       "      <td>...</td>\n",
       "      <td>...</td>\n",
       "      <td>...</td>\n",
       "      <td>...</td>\n",
       "      <td>...</td>\n",
       "      <td>...</td>\n",
       "      <td>...</td>\n",
       "      <td>...</td>\n",
       "    </tr>\n",
       "    <tr>\n",
       "      <th>10352</th>\n",
       "      <td>A10357</td>\n",
       "      <td>32</td>\n",
       "      <td>297270.24</td>\n",
       "      <td>M</td>\n",
       "      <td>M</td>\n",
       "      <td>999996.0</td>\n",
       "      <td>TYPE-A</td>\n",
       "      <td>38</td>\n",
       "      <td>2</td>\n",
       "      <td>MONTHLY</td>\n",
       "      <td>INFORCE</td>\n",
       "      <td>20131129</td>\n",
       "      <td>NaN</td>\n",
       "      <td>3.363929</td>\n",
       "    </tr>\n",
       "    <tr>\n",
       "      <th>10353</th>\n",
       "      <td>A10358</td>\n",
       "      <td>19</td>\n",
       "      <td>123706.92</td>\n",
       "      <td>S</td>\n",
       "      <td>F</td>\n",
       "      <td>1800000.0</td>\n",
       "      <td>TYPE-A</td>\n",
       "      <td>29</td>\n",
       "      <td>0</td>\n",
       "      <td>MONTHLY</td>\n",
       "      <td>INFORCE</td>\n",
       "      <td>20131129</td>\n",
       "      <td>NaN</td>\n",
       "      <td>14.550520</td>\n",
       "    </tr>\n",
       "    <tr>\n",
       "      <th>10354</th>\n",
       "      <td>A10359</td>\n",
       "      <td>17</td>\n",
       "      <td>141011.64</td>\n",
       "      <td>M</td>\n",
       "      <td>M</td>\n",
       "      <td>799992.0</td>\n",
       "      <td>TYPE-A</td>\n",
       "      <td>61</td>\n",
       "      <td>1</td>\n",
       "      <td>MONTHLY</td>\n",
       "      <td>INFORCE</td>\n",
       "      <td>20131129</td>\n",
       "      <td>NaN</td>\n",
       "      <td>5.673234</td>\n",
       "    </tr>\n",
       "    <tr>\n",
       "      <th>10356</th>\n",
       "      <td>A10361</td>\n",
       "      <td>17</td>\n",
       "      <td>113316.53</td>\n",
       "      <td>M</td>\n",
       "      <td>M</td>\n",
       "      <td>399996.0</td>\n",
       "      <td>TYPE-A</td>\n",
       "      <td>42</td>\n",
       "      <td>1</td>\n",
       "      <td>ANNUAL</td>\n",
       "      <td>INFORCE</td>\n",
       "      <td>20131129</td>\n",
       "      <td>NaN</td>\n",
       "      <td>3.529900</td>\n",
       "    </tr>\n",
       "    <tr>\n",
       "      <th>10361</th>\n",
       "      <td>A10366</td>\n",
       "      <td>17</td>\n",
       "      <td>100000.36</td>\n",
       "      <td>W</td>\n",
       "      <td>F</td>\n",
       "      <td>300000.0</td>\n",
       "      <td>TYPE-A</td>\n",
       "      <td>56</td>\n",
       "      <td>0</td>\n",
       "      <td>SEMI-ANNUAL</td>\n",
       "      <td>INFORCE</td>\n",
       "      <td>20131129</td>\n",
       "      <td>NaN</td>\n",
       "      <td>2.999989</td>\n",
       "    </tr>\n",
       "  </tbody>\n",
       "</table>\n",
       "<p>7275 rows × 14 columns</p>\n",
       "</div>"
      ],
      "text/plain": [
       "      MEMBERSHIP_NUMBER  MEMBERSHIP_TERM_YEARS  ANNUAL_FEES  \\\n",
       "0                A00001                     29    113125.00   \n",
       "1                A00002                     38    112220.00   \n",
       "2                A00003                     12    100000.00   \n",
       "3                A00004                     12    100000.00   \n",
       "4                A00005                     46    100000.00   \n",
       "...                 ...                    ...          ...   \n",
       "10352            A10357                     32    297270.24   \n",
       "10353            A10358                     19    123706.92   \n",
       "10354            A10359                     17    141011.64   \n",
       "10356            A10361                     17    113316.53   \n",
       "10361            A10366                     17    100000.36   \n",
       "\n",
       "      MEMBER_MARITAL_STATUS MEMBER_GENDER  MEMBER_ANNUAL_INCOME  \\\n",
       "0                         M             M            25200000.0   \n",
       "1                         M             M            10339200.0   \n",
       "2                         M             M            14400000.0   \n",
       "3                         M             M             9000000.0   \n",
       "4                         M             M             4800000.0   \n",
       "...                     ...           ...                   ...   \n",
       "10352                     M             M              999996.0   \n",
       "10353                     S             F             1800000.0   \n",
       "10354                     M             M              799992.0   \n",
       "10356                     M             M              399996.0   \n",
       "10361                     W             F              300000.0   \n",
       "\n",
       "      MEMBERSHIP_PACKAGE  MEMBER_AGE_AT_ISSUE  ADDITIONAL_MEMBERS  \\\n",
       "0                 TYPE-B                   45                   2   \n",
       "1                 TYPE-B                   36                   3   \n",
       "2                 TYPE-B                   42                   1   \n",
       "3                 TYPE-B                   39                   2   \n",
       "4                 TYPE-B                   27                   2   \n",
       "...                  ...                  ...                 ...   \n",
       "10352             TYPE-A                   38                   2   \n",
       "10353             TYPE-A                   29                   0   \n",
       "10354             TYPE-A                   61                   1   \n",
       "10356             TYPE-A                   42                   1   \n",
       "10361             TYPE-A                   56                   0   \n",
       "\n",
       "      PAYMENT_MODE MEMBERSHIP_STATUS  START_DATE (YYYYMMDD)  \\\n",
       "0           ANNUAL           INFORCE               20060914   \n",
       "1        QUARTERLY           INFORCE               20061102   \n",
       "2           ANNUAL           INFORCE               20070124   \n",
       "3           ANNUAL           INFORCE               20070122   \n",
       "4        QUARTERLY           INFORCE               20070131   \n",
       "...            ...               ...                    ...   \n",
       "10352      MONTHLY           INFORCE               20131129   \n",
       "10353      MONTHLY           INFORCE               20131129   \n",
       "10354      MONTHLY           INFORCE               20131129   \n",
       "10356       ANNUAL           INFORCE               20131129   \n",
       "10361  SEMI-ANNUAL           INFORCE               20131129   \n",
       "\n",
       "       END_DATE  (YYYYMMDD)  Income_to_Fee_Ratio  \n",
       "0                       NaN           222.762431  \n",
       "1                       NaN            92.133310  \n",
       "2                       NaN           144.000000  \n",
       "3                       NaN            90.000000  \n",
       "4                       NaN            48.000000  \n",
       "...                     ...                  ...  \n",
       "10352                   NaN             3.363929  \n",
       "10353                   NaN            14.550520  \n",
       "10354                   NaN             5.673234  \n",
       "10356                   NaN             3.529900  \n",
       "10361                   NaN             2.999989  \n",
       "\n",
       "[7275 rows x 14 columns]"
      ]
     },
     "execution_count": 28,
     "metadata": {},
     "output_type": "execute_result"
    }
   ],
   "source": [
    "member_df_clean"
   ]
  },
  {
   "cell_type": "code",
   "execution_count": 29,
   "metadata": {},
   "outputs": [],
   "source": [
    "#seeing cancelled members by gender\n",
    "cancelled_counts_by_gender = member_df_clean[member_df_clean['MEMBERSHIP_STATUS'] == 'CANCELLED']['MEMBER_GENDER'].value_counts()"
   ]
  },
  {
   "cell_type": "code",
   "execution_count": 30,
   "metadata": {},
   "outputs": [
    {
     "data": {
      "text/plain": [
       "MEMBER_GENDER\n",
       "M    1842\n",
       "F     496\n",
       "Name: count, dtype: int64"
      ]
     },
     "execution_count": 30,
     "metadata": {},
     "output_type": "execute_result"
    }
   ],
   "source": [
    "cancelled_counts_by_gender"
   ]
  },
  {
   "cell_type": "code",
   "execution_count": 31,
   "metadata": {},
   "outputs": [
    {
     "data": {
      "image/png": "[encoded data removed]",
      "text/plain": [
       "<Figure size 800x600 with 1 Axes>"
      ]
     },
     "metadata": {},
     "output_type": "display_data"
    }
   ],
   "source": [
    "#checking overliers\n",
    "plt.figure(figsize=(8, 6))\n",
    "sns.boxplot(x=member_df_clean['MEMBER_ANNUAL_INCOME'])\n",
    "plt.title('Box Plot of Annual Income')\n",
    "plt.show()"
   ]
  },
  {
   "cell_type": "code",
   "execution_count": 32,
   "metadata": {},
   "outputs": [],
   "source": [
    "from scipy.stats import zscore"
   ]
  },
  {
   "cell_type": "code",
   "execution_count": 33,
   "metadata": {},
   "outputs": [],
   "source": [
    "#calculating overliers\n",
    "z_scores = zscore(member_df_clean['MEMBER_ANNUAL_INCOME'])\n",
    "outliers = (abs(z_scores) > 1.8)"
   ]
  },
  {
   "cell_type": "code",
   "execution_count": 34,
   "metadata": {},
   "outputs": [
    {
     "data": {
      "text/plain": [
       "62"
      ]
     },
     "execution_count": 34,
     "metadata": {},
     "output_type": "execute_result"
    }
   ],
   "source": [
    "#as it is very less than our data, we will not remove these\n",
    "outliers.sum()"
   ]
  },
  {
   "cell_type": "code",
   "execution_count": 35,
   "metadata": {},
   "outputs": [
    {
     "data": {
      "text/plain": [
       "(7275, 14)"
      ]
     },
     "execution_count": 35,
     "metadata": {},
     "output_type": "execute_result"
    }
   ],
   "source": [
    "member_df_clean.shape"
   ]
  },
  {
   "cell_type": "code",
   "execution_count": 43,
   "metadata": {},
   "outputs": [],
   "source": [
    "#importing libraries for our model\n",
    "from sklearn.model_selection import train_test_split\n",
    "from sklearn.ensemble import RandomForestClassifier\n",
    "from sklearn.metrics import  accuracy_score"
   ]
  },
  {
   "cell_type": "code",
   "execution_count": 49,
   "metadata": {},
   "outputs": [],
   "source": [
    "#describing the features and target for decision trees\n",
    "features = ['MEMBER_MARITAL_STATUS', 'PAYMENT_MODE', 'MEMBER_AGE_AT_ISSUE', 'Income_to_Fee_Ratio', 'MEMBER_GENDER', 'ANNUAL_FEES', 'MEMBERSHIP_PACKAGE']\n",
    "target = 'MEMBERSHIP_STATUS'"
   ]
  },
  {
   "cell_type": "code",
   "execution_count": 50,
   "metadata": {},
   "outputs": [],
   "source": [
    "#giving variables\n",
    "X = member_df_clean[features]\n",
    "y = member_df_clean[target]"
   ]
  },
  {
   "cell_type": "code",
   "execution_count": 51,
   "metadata": {},
   "outputs": [],
   "source": [
    "#handling categorical data\n",
    "X_encoded = pd.get_dummies(X, columns=['MEMBER_MARITAL_STATUS', 'PAYMENT_MODE', 'MEMBER_GENDER', 'MEMBERSHIP_PACKAGE'], drop_first=True)"
   ]
  },
  {
   "cell_type": "code",
   "execution_count": 52,
   "metadata": {},
   "outputs": [],
   "source": [
    "#splitting the data\n",
    "X_train, X_test, y_train, y_test = train_test_split(X_encoded, y, test_size=0.2, random_state=42)"
   ]
  },
  {
   "cell_type": "code",
   "execution_count": 53,
   "metadata": {},
   "outputs": [],
   "source": [
    "#defining random forest classifier\n",
    "rf_model = RandomForestClassifier(n_estimators=200, random_state=42)"
   ]
  },
  {
   "cell_type": "code",
   "execution_count": 54,
   "metadata": {},
   "outputs": [
    {
     "data": {
      "text/html": [
       "<style>#sk-container-id-2 {color: black;}#sk-container-id-2 pre{padding: 0;}#sk-container-id-2 div.sk-toggleable {background-color: white;}#sk-container-id-2 label.sk-toggleable__label {cursor: pointer;display: block;width: 100%;margin-bottom: 0;padding: 0.3em;box-sizing: border-box;text-align: center;}#sk-container-id-2 label.sk-toggleable__label-arrow:before {content: \"▸\";float: left;margin-right: 0.25em;color: #696969;}#sk-container-id-2 label.sk-toggleable__label-arrow:hover:before {color: black;}#sk-container-id-2 div.sk-estimator:hover label.sk-toggleable__label-arrow:before {color: black;}#sk-container-id-2 div.sk-toggleable__content {max-height: 0;max-width: 0;overflow: hidden;text-align: left;background-color: #f0f8ff;}#sk-container-id-2 div.sk-toggleable__content pre {margin: 0.2em;color: black;border-radius: 0.25em;background-color: #f0f8ff;}#sk-container-id-2 input.sk-toggleable__control:checked~div.sk-toggleable__content {max-height: 200px;max-width: 100%;overflow: auto;}#sk-container-id-2 input.sk-toggleable__control:checked~label.sk-toggleable__label-arrow:before {content: \"▾\";}#sk-container-id-2 div.sk-estimator input.sk-toggleable__control:checked~label.sk-toggleable__label {background-color: #d4ebff;}#sk-container-id-2 div.sk-label input.sk-toggleable__control:checked~label.sk-toggleable__label {background-color: #d4ebff;}#sk-container-id-2 input.sk-hidden--visually {border: 0;clip: rect(1px 1px 1px 1px);clip: rect(1px, 1px, 1px, 1px);height: 1px;margin: -1px;overflow: hidden;padding: 0;position: absolute;width: 1px;}#sk-container-id-2 div.sk-estimator {font-family: monospace;background-color: #f0f8ff;border: 1px dotted black;border-radius: 0.25em;box-sizing: border-box;margin-bottom: 0.5em;}#sk-container-id-2 div.sk-estimator:hover {background-color: #d4ebff;}#sk-container-id-2 div.sk-parallel-item::after {content: \"\";width: 100%;border-bottom: 1px solid gray;flex-grow: 1;}#sk-container-id-2 div.sk-label:hover label.sk-toggleable__label {background-color: #d4ebff;}#sk-container-id-2 div.sk-serial::before {content: \"\";position: absolute;border-left: 1px solid gray;box-sizing: border-box;top: 0;bottom: 0;left: 50%;z-index: 0;}#sk-container-id-2 div.sk-serial {display: flex;flex-direction: column;align-items: center;background-color: white;padding-right: 0.2em;padding-left: 0.2em;position: relative;}#sk-container-id-2 div.sk-item {position: relative;z-index: 1;}#sk-container-id-2 div.sk-parallel {display: flex;align-items: stretch;justify-content: center;background-color: white;position: relative;}#sk-container-id-2 div.sk-item::before, #sk-container-id-2 div.sk-parallel-item::before {content: \"\";position: absolute;border-left: 1px solid gray;box-sizing: border-box;top: 0;bottom: 0;left: 50%;z-index: -1;}#sk-container-id-2 div.sk-parallel-item {display: flex;flex-direction: column;z-index: 1;position: relative;background-color: white;}#sk-container-id-2 div.sk-parallel-item:first-child::after {align-self: flex-end;width: 50%;}#sk-container-id-2 div.sk-parallel-item:last-child::after {align-self: flex-start;width: 50%;}#sk-container-id-2 div.sk-parallel-item:only-child::after {width: 0;}#sk-container-id-2 div.sk-dashed-wrapped {border: 1px dashed gray;margin: 0 0.4em 0.5em 0.4em;box-sizing: border-box;padding-bottom: 0.4em;background-color: white;}#sk-container-id-2 div.sk-label label {font-family: monospace;font-weight: bold;display: inline-block;line-height: 1.2em;}#sk-container-id-2 div.sk-label-container {text-align: center;}#sk-container-id-2 div.sk-container {/* jupyter's `normalize.less` sets `[hidden] { display: none; }` but bootstrap.min.css set `[hidden] { display: none !important; }` so we also need the `!important` here to be able to override the default hidden behavior on the sphinx rendered scikit-learn.org. See: https://github.com/scikit-learn/scikit-learn/issues/21755 */display: inline-block !important;position: relative;}#sk-container-id-2 div.sk-text-repr-fallback {display: none;}</style><div id=\"sk-container-id-2\" class=\"sk-top-container\"><div class=\"sk-text-repr-fallback\"><pre>RandomForestClassifier(n_estimators=200, random_state=42)</pre><b>In a Jupyter environment, please rerun this cell to show the HTML representation or trust the notebook. <br />On GitHub, the HTML representation is unable to render, please try loading this page with nbviewer.org.</b></div><div class=\"sk-container\" hidden><div class=\"sk-item\"><div class=\"sk-estimator sk-toggleable\"><input class=\"sk-toggleable__control sk-hidden--visually\" id=\"sk-estimator-id-2\" type=\"checkbox\" checked><label for=\"sk-estimator-id-2\" class=\"sk-toggleable__label sk-toggleable__label-arrow\">RandomForestClassifier</label><div class=\"sk-toggleable__content\"><pre>RandomForestClassifier(n_estimators=200, random_state=42)</pre></div></div></div></div></div>"
      ],
      "text/plain": [
       "RandomForestClassifier(n_estimators=200, random_state=42)"
      ]
     },
     "execution_count": 54,
     "metadata": {},
     "output_type": "execute_result"
    }
   ],
   "source": [
    "#fitting the model\n",
    "rf_model.fit(X_train, y_train)"
   ]
  },
  {
   "cell_type": "code",
   "execution_count": 55,
   "metadata": {},
   "outputs": [],
   "source": [
    "#making predictions\n",
    "y_pred = rf_model.predict(X_test)"
   ]
  },
  {
   "cell_type": "code",
   "execution_count": 56,
   "metadata": {},
   "outputs": [
    {
     "data": {
      "text/plain": [
       "0.6611683848797251"
      ]
     },
     "execution_count": 56,
     "metadata": {},
     "output_type": "execute_result"
    }
   ],
   "source": [
    "#checking accuracy\n",
    "accuracy_score(y_test, y_pred)"
   ]
  },
  {
   "cell_type": "code",
   "execution_count": 49,
   "metadata": {},
   "outputs": [],
   "source": [
    "#importing libraries for confusion matrix\n",
    "from sklearn.metrics import confusion_matrix"
   ]
  },
  {
   "cell_type": "code",
   "execution_count": 50,
   "metadata": {},
   "outputs": [],
   "source": [
    "#defining confusion matrix\n",
    "conf_matrix = confusion_matrix(y_test, y_pred)"
   ]
  },
  {
   "cell_type": "code",
   "execution_count": 51,
   "metadata": {},
   "outputs": [
    {
     "data": {
      "text/plain": [
       "array([[163, 320],\n",
       "       [173, 799]])"
      ]
     },
     "execution_count": 51,
     "metadata": {},
     "output_type": "execute_result"
    }
   ],
   "source": [
    "conf_matrix"
   ]
  },
  {
   "cell_type": "code",
   "execution_count": null,
   "metadata": {},
   "outputs": [],
   "source": [
    "'''\n",
    "Accuracy: 66.12%\n",
    "Sensitivity: 71.40%\n",
    "Precision: 82.20%\n",
    "F1 Score: 76.42%\n",
    "'''"
   ]
  },
  {
   "cell_type": "code",
   "execution_count": null,
   "metadata": {},
   "outputs": [],
   "source": [
    "'''\n",
    "I have removed the columns for the dataframe to make it less confusing and have used simple graphs to explain how the features I have used are\n",
    "more important.\n",
    "I have also tagged every cell so that it is easily understandable for the reader.\n",
    "At the end I have also calculated the different metrics that I have derived from the confusion matrix.\n",
    "I have used the random forest classifier for this prediction tasks as we had many features to work with so any ensemble learning technique would\n",
    "have been a perfect fit.\n",
    "I will be also uploading the graphs I have used to explain the features on github.\n",
    "'''"
   ]
  }
 ],
 "metadata": {
  "kernelspec": {
   "display_name": "Python 3",
   "language": "python",
   "name": "python3"
  },
  "language_info": {
   "codemirror_mode": {
    "name": "ipython",
    "version": 3
   },
   "file_extension": ".py",
   "mimetype": "text/x-python",
   "name": "python",
   "nbconvert_exporter": "python",
   "pygments_lexer": "ipython3",
   "version": "3.9.6"
  },
  "orig_nbformat": 4
 },
 "nbformat": 4,
 "nbformat_minor": 2
}
